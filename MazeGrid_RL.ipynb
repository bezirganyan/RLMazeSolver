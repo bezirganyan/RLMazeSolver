{
 "cells": [
  {
   "cell_type": "code",
   "execution_count": 8,
   "metadata": {
    "scrolled": false
   },
   "outputs": [
    {
     "data": {
      "application/vnd.jupyter.widget-view+json": {
       "model_id": "a08b69f3788b4966804f6ace2b5f193a",
       "version_major": 2,
       "version_minor": 0
      },
      "text/plain": [
       "interactive(children=(Text(value='40', description='Epochs'), Output()), _dom_classes=('widget-interact',))"
      ]
     },
     "metadata": {},
     "output_type": "display_data"
    },
    {
     "data": {
      "application/vnd.jupyter.widget-view+json": {
       "model_id": "bb3aa38784e24ec194908f28a5218108",
       "version_major": 2,
       "version_minor": 0
      },
      "text/plain": [
       "interactive(children=(Text(value='15', description='x'), Text(value='15', description='y'), Output()), _dom_cl…"
      ]
     },
     "metadata": {},
     "output_type": "display_data"
    },
    {
     "data": {
      "application/vnd.jupyter.widget-view+json": {
       "model_id": "6c157a15d540493a9d96657af958d4c0",
       "version_major": 2,
       "version_minor": 0
      },
      "text/plain": [
       "Button(button_style='warning', description='Train', style=ButtonStyle(), tooltip='Train')"
      ]
     },
     "metadata": {},
     "output_type": "display_data"
    },
    {
     "data": {
      "application/vnd.jupyter.widget-view+json": {
       "model_id": "d8b8c06a8df041b89b7c6280dc920e10",
       "version_major": 2,
       "version_minor": 0
      },
      "text/plain": [
       "Button(button_style='info', description='Solve', style=ButtonStyle(), tooltip='Solve')"
      ]
     },
     "metadata": {},
     "output_type": "display_data"
    }
   ],
   "source": [
    "from ipywidgets import *\n",
    "from IPython.display import display as dsp\n",
    "from IPython import display\n",
    "import numpy as np\n",
    "import matplotlib.pyplot as plt\n",
    "import time\n",
    "import seaborn as sns\n",
    "from envs.MazeGridWorld import MazeGridWorld\n",
    "from pylab import *\n",
    "from train import *\n",
    "\n",
    "def policy(state):\n",
    "    choices = []\n",
    "    for action in range(4):\n",
    "        a = env.next_states(state, action)\n",
    "        probs = []\n",
    "        for i in a:\n",
    "            probs.append(i[1])\n",
    "        new_state = a[np.argmax(probs)][0]\n",
    "        choices.append(V[new_state])\n",
    "\n",
    "    return np.argmax(choices)\n",
    "\n",
    "def calculate_action_expectation(state, action, Values):\n",
    "    ps = env.next_states(state, action)\n",
    "    summation = 0\n",
    "    for s, p in ps: \n",
    "        summation += Values[s] * p\n",
    "    \n",
    "    return summation\n",
    "\n",
    "env = None\n",
    "%matplotlib inline\n",
    "plt.rcParams['figure.dpi'] = 150\n",
    "epochs = 0\n",
    "\n",
    "@interact(x=widgets.Text(value='40', description = 'Epochs'))\n",
    "def CreateMaze(x):\n",
    "    global epochs\n",
    "    epochs = int(x)\n",
    "\n",
    "@interact(x=widgets.Text(value='15'), y=widgets.Text(value='15'))\n",
    "def CreateMaze(x, y):\n",
    "    global env\n",
    "    env = MazeGridWorld(grid_size=(int(x), int(y)))\n",
    "    s_0 = env.reset()\n",
    "    plt.axis('off')\n",
    "    env.draw_state()\n",
    "    \n",
    "train_button = widgets.Button(\n",
    "    description='Train',\n",
    "    disabled=False,\n",
    "    button_style='warning', \n",
    "    tooltip='Train'\n",
    ")\n",
    "\n",
    "solve_button = widgets.Button(\n",
    "    description='Solve',\n",
    "    disabled=False,\n",
    "    button_style='info',\n",
    "    tooltip='Solve'\n",
    ")\n",
    "V = None\n",
    "def on_train_pressed(b):\n",
    "    global V\n",
    "    random_policy = lambda state: np.random.randint(4)\n",
    "    V = np.zeros(env.w*env.h).reshape(env.w,env.h)\n",
    "    R = np.zeros(env.w*env.h).reshape(env.w,env.h)\n",
    "    R[env.goal] = 1\n",
    "    iter_count=epochs\n",
    "    gamma=0.99\n",
    "    visual = True\n",
    "    plt.axis('equal')\n",
    "\n",
    "    for epoch in range(iter_count):\n",
    "            for i in range(V.shape[0]):\n",
    "                for j in range(V.shape[1])[::-1]:\n",
    "                    if env.field[i, j] != 1:\n",
    "                        prev = V[i, j]*1\n",
    "                        V[i, j] = max([R[i, j] + gamma*(calculate_action_expectation((i, j), a, V)) for a in range(4)])\n",
    "                        if visual and prev != V[i, j]:\n",
    "                            plt.subplot(1, 2, 1)\n",
    "                            env.reset()\n",
    "                            plt.axis('off')\n",
    "                            env.draw_state()\n",
    "                            plt.subplot(1, 2, 2)\n",
    "                            plt.axis('equal')\n",
    "                            plt.axis('off')\n",
    "                            sns.heatmap(np.rot90(V), cbar=None)\n",
    "                            plt.suptitle('Epoch '+str(epoch+1)+'/'+str(iter_count), fontsize=20)\n",
    "                            display.clear_output(wait=True)\n",
    "                            display.display(plt.gcf())\n",
    "                            time.sleep(0.000000000000000000000000000000000000000000000000000001)\n",
    "                            plt.gcf().clear()\n",
    "\n",
    "    dsp(train_button, solve_button);\n",
    "    \n",
    "def on_solve_pressed(b): \n",
    "    global V\n",
    "    plt.subplot(1, 2, 2)\n",
    "    plt.axis('equal')\n",
    "    plt.axis('off')\n",
    "    sns.heatmap(np.rot90(V), cbar=None)\n",
    "    plt.subplot(1, 2, 1)\n",
    "    plt.axis('off')\n",
    "    reward1 = env.play_with_policy(policy, max_iter=100)\n",
    "    \n",
    "train_button.on_click(on_train_pressed)\n",
    "solve_button.on_click(on_solve_pressed)\n",
    "dsp(train_button, solve_button);"
   ]
  },
  {
   "cell_type": "code",
   "execution_count": null,
   "metadata": {},
   "outputs": [],
   "source": []
  }
 ],
 "metadata": {
  "kernelspec": {
   "display_name": "Python 3",
   "language": "python",
   "name": "python3"
  },
  "language_info": {
   "codemirror_mode": {
    "name": "ipython",
    "version": 3
   },
   "file_extension": ".py",
   "mimetype": "text/x-python",
   "name": "python",
   "nbconvert_exporter": "python",
   "pygments_lexer": "ipython3",
   "version": "3.6.6"
  }
 },
 "nbformat": 4,
 "nbformat_minor": 2
}
