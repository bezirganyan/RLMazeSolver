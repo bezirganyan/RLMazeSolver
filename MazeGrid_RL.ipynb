{
 "cells": [
  {
   "cell_type": "code",
   "execution_count": 1,
   "metadata": {},
   "outputs": [
    {
     "name": "stderr",
     "output_type": "stream",
     "text": [
      "/usr/lib/python3.6/importlib/_bootstrap.py:219: RuntimeWarning: numpy.dtype size changed, may indicate binary incompatibility. Expected 96, got 88\n",
      "  return f(*args, **kwds)\n"
     ]
    }
   ],
   "source": [
    "import numpy as np\n",
    "import matplotlib.pyplot as plt\n",
    "import time\n",
    "from IPython import display\n",
    "import seaborn as sns\n",
    "from envs.MazeGridWorld import MazeGridWorld"
   ]
  },
  {
   "cell_type": "code",
   "execution_count": null,
   "metadata": {},
   "outputs": [],
   "source": []
  },
  {
   "cell_type": "code",
   "execution_count": 2,
   "metadata": {},
   "outputs": [
    {
     "data": {
      "image/png": "[encoded data removed]",
      "text/plain": [
       "<Figure size 432x288 with 1 Axes>"
      ]
     },
     "metadata": {},
     "output_type": "display_data"
    }
   ],
   "source": [
    "env = MazeGridWorld(grid_size=(20, 20))\n",
    "s_0 = env.reset()\n",
    "env.draw_state()"
   ]
  },
  {
   "cell_type": "code",
   "execution_count": null,
   "metadata": {},
   "outputs": [],
   "source": []
  },
  {
   "cell_type": "code",
   "execution_count": null,
   "metadata": {},
   "outputs": [],
   "source": []
  },
  {
   "cell_type": "code",
   "execution_count": 3,
   "metadata": {},
   "outputs": [],
   "source": [
    "random_policy = lambda state: np.random.randint(4)\n",
    "V = np.zeros(env.w*env.h).reshape(env.w,env.h)\n",
    "R = np.zeros(env.w*env.h).reshape(env.w,env.h)\n",
    "R[env.goal] = 1"
   ]
  },
  {
   "cell_type": "code",
   "execution_count": 4,
   "metadata": {},
   "outputs": [],
   "source": [
    "def calculate_action_expectation(state, action, Values):\n",
    "    ps = env.next_states(state, action)\n",
    "    summation = 0\n",
    "    for s, p in ps: \n",
    "        summation += Values[s] * p\n",
    "    \n",
    "    return summation"
   ]
  },
  {
   "cell_type": "code",
   "execution_count": 5,
   "metadata": {},
   "outputs": [],
   "source": [
    "def calculate_V(V, gamma=0.99, iter_count=100, visual=True):\n",
    "    for _ in range(iter_count):\n",
    "        for i in range(V.shape[0])[::-1]:\n",
    "            for j in range(V.shape[1]):\n",
    "                if env.field[i, j] != 1:\n",
    "                    prev = V[i, j]*1\n",
    "                    V[i, j] = max([R[i, j] + gamma*(calculate_action_expectation((i, j), a, V)) for a in range(4)])\n",
    "                    if visual and prev != V[i, j]:\n",
    "                        plt.figure()\n",
    "                        sns.heatmap(V.T)\n",
    "                        display.clear_output(wait=True)\n",
    "                        display.display(plt.gcf())\n",
    "                        time.sleep(0.000000000000000000000000000000000000000000000000000001)\n",
    "\n",
    "    return V"
   ]
  },
  {
   "cell_type": "code",
   "execution_count": null,
   "metadata": {},
   "outputs": [
    {
     "data": {
      "image/png": "[encoded data removed]",
      "text/plain": [
       "<Figure size 432x288 with 2 Axes>"
      ]
     },
     "metadata": {},
     "output_type": "display_data"
    }
   ],
   "source": [
    "V = calculate_V(V)"
   ]
  },
  {
   "cell_type": "code",
   "execution_count": null,
   "metadata": {
    "scrolled": true
   },
   "outputs": [],
   "source": [
    "sns.heatmap(V.T)"
   ]
  },
  {
   "cell_type": "code",
   "execution_count": 9,
   "metadata": {},
   "outputs": [],
   "source": [
    "def policy(state):\n",
    "    choices = []\n",
    "    for action in range(4):\n",
    "        a = env.next_states(state, action)\n",
    "        probs = []\n",
    "        for i in a:\n",
    "            probs.append(i[1])\n",
    "        new_state = a[np.argmax(probs)][0]\n",
    "        choices.append(V[new_state])\n",
    "\n",
    "    return np.argmax(choices)"
   ]
  },
  {
   "cell_type": "code",
   "execution_count": 10,
   "metadata": {},
   "outputs": [
    {
     "data": {
      "image/png": "[encoded data removed]",
      "text/plain": [
       "<Figure size 432x288 with 1 Axes>"
      ]
     },
     "metadata": {},
     "output_type": "display_data"
    }
   ],
   "source": [
    "reward1 = env.play_with_policy(policy, max_iter=100)"
   ]
  },
  {
   "cell_type": "code",
   "execution_count": null,
   "metadata": {},
   "outputs": [],
   "source": []
  },
  {
   "cell_type": "code",
   "execution_count": 1,
   "metadata": {},
   "outputs": [
    {
     "data": {
      "application/vnd.jupyter.widget-view+json": {
       "model_id": "eab8654c7f3f4990bdc821a69cfeac7f",
       "version_major": 2,
       "version_minor": 0
      },
      "text/plain": [
       "Text(value='', description='Maze Dimensions:', placeholder='Width, Height')"
      ]
     },
     "metadata": {},
     "output_type": "display_data"
    },
    {
     "data": {
      "application/vnd.jupyter.widget-view+json": {
       "model_id": "721e0849dbdf437aa3149cf539f772ad",
       "version_major": 2,
       "version_minor": 0
      },
      "text/plain": [
       "Button(button_style='warning', description='Train', style=ButtonStyle(), tooltip='Train')"
      ]
     },
     "metadata": {},
     "output_type": "display_data"
    },
    {
     "data": {
      "application/vnd.jupyter.widget-view+json": {
       "model_id": "5e437ea6f15041d48b8cbf71bd34d9a0",
       "version_major": 2,
       "version_minor": 0
      },
      "text/plain": [
       "Button(button_style='info', description='Solve', disabled=True, style=ButtonStyle(), tooltip='Solve')"
      ]
     },
     "metadata": {},
     "output_type": "display_data"
    }
   ],
   "source": [
    "%matplotlib notebook\n",
    "from ipywidgets import *\n",
    "from IPython.display import display\n",
    "import numpy as np\n",
    "import matplotlib.pyplot as plt\n",
    "\n",
    "dim = widgets.Text(\n",
    "    value='',\n",
    "    placeholder='Width, Height',\n",
    "    description='Maze Dimensions:',\n",
    "    disabled=False\n",
    ")\n",
    "\n",
    "train_button = widgets.Button(\n",
    "    description='Train',\n",
    "    disabled=False,\n",
    "    button_style='warning', # 'success', 'info', 'warning', 'danger' or ''\n",
    "    tooltip='Train'\n",
    ")\n",
    "\n",
    "solve_button = widgets.Button(\n",
    "    description='Solve',\n",
    "    disabled=True,\n",
    "    button_style='info', # 'success', 'info', 'warning', 'danger' or ''\n",
    "    tooltip='Solve'\n",
    ")\n",
    "\n",
    "display(dim, train_button, solve_button);"
   ]
  },
  {
   "cell_type": "code",
   "execution_count": null,
   "metadata": {},
   "outputs": [],
   "source": []
  },
  {
   "cell_type": "code",
   "execution_count": 11,
   "metadata": {},
   "outputs": [
    {
     "data": {
      "application/vnd.jupyter.widget-view+json": {
       "model_id": "ee9fccdf0f6c4a26a8c9166b5f307f56",
       "version_major": 2,
       "version_minor": 0
      },
      "text/plain": [
       "interactive(children=(IntSlider(value=30, description='x', max=60, min=4), IntSlider(value=30, description='y'…"
      ]
     },
     "metadata": {},
     "output_type": "display_data"
    },
    {
     "data": {
      "application/vnd.jupyter.widget-view+json": {
       "model_id": "6840345d1f0548d68e4434d16833b42d",
       "version_major": 2,
       "version_minor": 0
      },
      "text/plain": [
       "Button(button_style='warning', description='Train', style=ButtonStyle(), tooltip='Train')"
      ]
     },
     "metadata": {},
     "output_type": "display_data"
    },
    {
     "data": {
      "application/vnd.jupyter.widget-view+json": {
       "model_id": "32f1682b6be347a69a365af5e09d67d4",
       "version_major": 2,
       "version_minor": 0
      },
      "text/plain": [
       "Button(button_style='info', description='Solve', disabled=True, style=ButtonStyle(), tooltip='Solve')"
      ]
     },
     "metadata": {},
     "output_type": "display_data"
    }
   ],
   "source": [
    "%matplotlib notebook\n",
    "from ipywidgets import *\n",
    "from IPython.display import display\n",
    "import numpy as np\n",
    "import matplotlib.pyplot as plt\n",
    "\n",
    "@interact(x=widgets.IntSlider(min=4,max=60,step=1,value=30), y=widgets.IntSlider(min=4,max=60,step=1,value=30))\n",
    "def CreateMaze(x, y):\n",
    "    env = MazeGridWorld(grid_size=(x, y))\n",
    "    s_0 = env.reset()\n",
    "    print (s_0)\n",
    "    env.draw_state()\n",
    "    \n",
    "train_button = widgets.Button(\n",
    "    description='Train',\n",
    "    disabled=False,\n",
    "    button_style='warning', # 'success', 'info', 'warning', 'danger' or ''\n",
    "    tooltip='Train'\n",
    ")\n",
    "\n",
    "solve_button = widgets.Button(\n",
    "    description='Solve',\n",
    "    disabled=True,\n",
    "    button_style='info', # 'success', 'info', 'warning', 'danger' or ''\n",
    "    tooltip='Solve'\n",
    ")\n",
    "\n",
    "display(train_button, solve_button);"
   ]
  },
  {
   "cell_type": "code",
   "execution_count": null,
   "metadata": {},
   "outputs": [],
   "source": []
  }
 ],
 "metadata": {
  "kernelspec": {
   "display_name": "Python 3",
   "language": "python",
   "name": "python3"
  },
  "language_info": {
   "codemirror_mode": {
    "name": "ipython",
    "version": 3
   },
   "file_extension": ".py",
   "mimetype": "text/x-python",
   "name": "python",
   "nbconvert_exporter": "python",
   "pygments_lexer": "ipython3",
   "version": "3.6.6"
  }
 },
 "nbformat": 4,
 "nbformat_minor": 2
}
